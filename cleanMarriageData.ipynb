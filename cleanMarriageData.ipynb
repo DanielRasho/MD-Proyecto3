{
 "cells": [
  {
   "cell_type": "code",
   "execution_count": 164,
   "id": "70df6018",
   "metadata": {},
   "outputs": [],
   "source": [
    "import warnings\n",
    "import glob\n",
    "import pandas as pd\n",
    "import numpy as np\n",
    "import matplotlib.pyplot as plt\n",
    "import seaborn as sns\n",
    "from scipy import stats\n",
    "from sklearn.ensemble import RandomForestClassifier, RandomForestRegressor\n",
    "from sklearn.metrics import accuracy_score\n",
    "from scipy.stats import shapiro, kstest\n",
    "from sklearn.decomposition import PCA\n",
    "from mlxtend.preprocessing import TransactionEncoder\n",
    "from mlxtend.frequent_patterns import apriori, association_rules\n",
    "\n",
    "# Dont print warnings\n",
    "warnings.simplefilter(action=\"ignore\")"
   ]
  },
  {
   "cell_type": "markdown",
   "id": "1b904291",
   "metadata": {},
   "source": [
    "# Descripción de los datos\n",
    "Para iniciar el estudio se estrajeron las observaciones de divorcios hechas por el INE sobre el tema desde los años del 2013 hasta el 2023 (11 años). Se partió con un *dataset* con 76669 observaciones y 19 variables.\n",
    "\n",
    "Se necesitó hacer un procesamiento de los datos, dado que las disposición y nombre de las variables cambió ligeramente a lo largo de los años, diferencias que se unificaron en las siguientes variables finales, con las que se trabajara a partir de ahora:\n",
    "\n",
    "**Variables númericas:**\n",
    "\n",
    "| Descripcion | Codificación | Categoría Nula |\n",
    "|-----------------|-------|----|\n",
    "| Edad del hombre | EDADHOM  | 999 |\n",
    "| Edad de la mujer | EDADMUJ | 999 |\n",
    "\n",
    "**Variables categóricas:**\n",
    "\n",
    "| Descripcion | Codificación | Categoría Nula | \n",
    "|-----------------------------------|-------|---|\n",
    "| Departamento de registro          | DEPREG | N/A |\n",
    "| Municipio de registro             | MUPREG   |N/A | \n",
    "| Mes de registro                   | MESREG   |N/A |\n",
    "| Año de registro                   | AÑOREG   |N/A |\n",
    "| Día de ocurrencia                 | DIAOCU |N/A |\n",
    "| Mes de ocurrencia                 | MESOCU  |N/A |\n",
    "| Año de ocurrencia                 | AÑOOCU |N/A |\n",
    "| Departamento de ocurrencia        | DEPOCU |N/A |\n",
    "| Municipio de ocurrencia           |  MUPOCU |N/A |\n",
    "| Grupo étnico del hombre           | PUEHOM | 9 |\n",
    "| Grupo étnico de la mujer          | PUEMUJ | 9 |\n",
    "| Nacionalidad del hombre           | NACHOM | 9999 | \n",
    "| Nacionalidad de la mujer          | NACMUJ | 9999 |\n",
    "| Escolaridad del hombre            | ESCHOM | 9 | \n",
    "| Escolaridad de la mujer           | ESCMUJ | 9 |\n",
    "| Ocupación del hombre              | CIUOHOM | 99 | \n",
    "| Ocupación de la mujer             | CIUOMUJ | 99 |\n",
    "\n",
    "***Nota:*** *La \"categoría nula\" para las variables en las que aplica, indica ese valor reservado para observaciones \"sin definir\"; se podrían considerar como un equivalente del Nan.*\n"
   ]
  },
  {
   "cell_type": "code",
   "execution_count": 165,
   "id": "e9a46ce4",
   "metadata": {},
   "outputs": [],
   "source": [
    "df = pd.read_csv('./data/marriages/2019.csv')\n",
    "\n",
    "variables = [\n",
    "    \"EDADHOM\", \n",
    "    \"EDADMUJ\",\n",
    "    \"DEPREG\",\n",
    "    \"MUPREG\",\n",
    "    \"MESREG\",\n",
    "    \"AÑOREG\",\n",
    "    \"DIAOCU\",\n",
    "    \"MESOCU\",\n",
    "    #\"AÑOOCU\",\n",
    "    \"DEPOCU\",\n",
    "    \"MUPOCU\",\n",
    "    \"PUEHOM\", \n",
    "    \"PUEMUJ\", \n",
    "    \"NACHOM\", \n",
    "    \"NACMUJ\", \n",
    "    \"ESCHOM\", \n",
    "    \"ESCMUJ\", \n",
    "    \"CIUOMUJ\", \n",
    "    \"CIUOHOM\"]\n",
    "\n",
    "df = df[variables]\n",
    "\n",
    "df[\"AÑOOCU\"]=df[\"AÑOREG\"]"
   ]
  },
  {
   "cell_type": "code",
   "execution_count": 166,
   "id": "ef10263e",
   "metadata": {},
   "outputs": [],
   "source": [
    "DEPREG = {\n",
    "    1: \"Guatemala\",\n",
    "    2: \"El Progreso\",\n",
    "    3: \"Sacatepequez\",\n",
    "    4: \"Chimaltenango\",\n",
    "    5: \"Escuintla\",\n",
    "    6: \"Santa Rosa\",\n",
    "    7: \"Solola\",\n",
    "    8: \"Totonicapan\",\n",
    "    9: \"Quetzaltenango\",\n",
    "    10: \"Suchitepequez\",\n",
    "    11: \"Retalhuleu\",\n",
    "    12: \"San Marcos\",\n",
    "    13: \"Huehuetenango\",\n",
    "    14: \"Quiche\",\n",
    "    15: \"Baja Verapaz\",\n",
    "    16: \"Alta Verapaz\",\n",
    "    17: \"Peten\",\n",
    "    18: \"Izabal\",\n",
    "    19: \"Zacapa\",\n",
    "    20: \"Chiquimula\",\n",
    "    21: \"Jalapa\",\n",
    "    22: \"Jutiapa\"\n",
    "}\n",
    "\n",
    "import unicodedata\n",
    "\n",
    "def remove_accents(text):\n",
    "    if isinstance(text, str):\n",
    "        text = unicodedata.normalize('NFKD', text)\n",
    "        text = ''.join(c for c in text if not unicodedata.combining(c))\n",
    "    return text\n",
    "# Remove accents\n",
    "df['DEPREG'] = df['DEPREG'].apply(remove_accents)\n",
    "\n",
    "# Encode values\n",
    "DEPREG_inverted = {v: k for k, v in DEPREG.items()}\n",
    "df['DEPREG'] = df['DEPREG'].map(DEPREG_inverted)\n",
    "# Check if everything run succesfully\n",
    "df[df['DEPREG'].isna()][\"DEPREG\"]\n",
    "# Encode to int\n",
    "df['DEPREG'] = df['DEPREG'].astype(int)"
   ]
  },
  {
   "cell_type": "code",
   "execution_count": 167,
   "id": "d47c7a0b",
   "metadata": {},
   "outputs": [
    {
     "data": {
      "application/vnd.microsoft.datawrangler.viewer.v0+json": {
       "columns": [
        {
         "name": "index",
         "rawType": "int64",
         "type": "integer"
        },
        {
         "name": "MUPREG",
         "rawType": "object",
         "type": "string"
        },
        {
         "name": "MUPREG",
         "rawType": "object",
         "type": "string"
        }
       ],
       "conversionMethod": "pd.DataFrame",
       "ref": "5afff82e-4957-47c7-a52f-7769621c84b4",
       "rows": [],
       "shape": {
        "columns": 2,
        "rows": 0
       }
      },
      "text/html": [
       "<div>\n",
       "<style scoped>\n",
       "    .dataframe tbody tr th:only-of-type {\n",
       "        vertical-align: middle;\n",
       "    }\n",
       "\n",
       "    .dataframe tbody tr th {\n",
       "        vertical-align: top;\n",
       "    }\n",
       "\n",
       "    .dataframe thead th {\n",
       "        text-align: right;\n",
       "    }\n",
       "</style>\n",
       "<table border=\"1\" class=\"dataframe\">\n",
       "  <thead>\n",
       "    <tr style=\"text-align: right;\">\n",
       "      <th></th>\n",
       "      <th>MUPREG</th>\n",
       "      <th>MUPREG</th>\n",
       "    </tr>\n",
       "  </thead>\n",
       "  <tbody>\n",
       "  </tbody>\n",
       "</table>\n",
       "</div>"
      ],
      "text/plain": [
       "Empty DataFrame\n",
       "Columns: [MUPREG, MUPREG]\n",
       "Index: []"
      ]
     },
     "execution_count": 167,
     "metadata": {},
     "output_type": "execute_result"
    }
   ],
   "source": [
    "MUPREG = {\n",
    "    \"0101\": \"Guatemala\",\n",
    "    \"0102\": \"Santa Catarina Pinula\",\n",
    "    \"0103\": \"San José Pinula\",\n",
    "    \"0104\": \"San José del Golfo\",\n",
    "    \"0105\": \"Palencia\",\n",
    "    \"0106\": \"Chinautla\",\n",
    "    \"0107\": \"San Pedro Ayampuc\",\n",
    "    \"0108\": \"Mixco\",\n",
    "    \"0109\": \"San Pedro Sacatepéquez\",\n",
    "    \"0110\": \"San Juan Sacatepéquez\",\n",
    "    \"0111\": \"San Raymundo\",\n",
    "    \"0112\": \"Chuarrancho\",\n",
    "    \"0113\": \"Fraijanes\",\n",
    "    \"0114\": \"Amatitlán\",\n",
    "    \"0115\": \"Villa Nueva\",\n",
    "    \"0116\": \"Villa Canales\",\n",
    "    \"0117\": \"Petapa\",\n",
    "    \"0201\": \"Guastatoya\",\n",
    "    \"0202\": \"Morazán\",\n",
    "    \"0203\": \"San Agustín Acasaguastlán\",\n",
    "    \"0204\": \"San Cristóbal Acasaguastlán\",\n",
    "    \"0205\": \"El Jícaro\",\n",
    "    \"0206\": \"Sansare\",\n",
    "    \"0207\": \"Sanarate\",\n",
    "    \"0208\": \"San Antonio la Paz\",\n",
    "    \"0301\": \"Antigua Guatemala\",\n",
    "    \"0302\": \"Jocotenango\",\n",
    "    \"0303\": \"Pastores\",\n",
    "    \"0304\": \"Sumpango\",\n",
    "    \"0305\": \"Santo Domingo Xenacoj\",\n",
    "    \"0306\": \"Santiago Sacatepéquez\",\n",
    "    \"0307\": \"San Bartolomé Milpas Altas\",\n",
    "    \"0308\": \"San Lucas Sacatepéquez\",\n",
    "    \"0309\": \"Santa Lucía Milpas Altas\",\n",
    "    \"0310\": \"Magdalena Milpas Altas\",\n",
    "    \"0311\": \"Santa María de Jesús\",\n",
    "    \"0312\": \"Ciudad Vieja\",\n",
    "    \"0313\": \"San Miguel Dueñas\",\n",
    "    \"0314\": \"Alotenango\",\n",
    "    \"0315\": \"San Antonio Aguas Calientes\",\n",
    "    \"0316\": \"Santa Catarina Barahona\",\n",
    "    \"0401\": \"Chimaltenango\",\n",
    "    \"0402\": \"San José Poaquil\",\n",
    "    \"0403\": \"San Martín Jilotepeque\",\n",
    "    \"0404\": \"Comalapa\",\n",
    "    \"0405\": \"Santa Apolonia\",\n",
    "    \"0406\": \"Tecpán Guatemala\",\n",
    "    \"0407\": \"Patzún\",\n",
    "    \"0408\": \"Pochuta\",\n",
    "    \"0409\": \"Patzicía\",\n",
    "    \"0410\": \"Santa Cruz Balanyá\",\n",
    "    \"0411\": \"Acatenango\",\n",
    "    \"0412\": \"Yepocapa\",\n",
    "    \"0413\": \"San Andrés Itzapa\",\n",
    "    \"0414\": \"Parramos\",\n",
    "    \"0415\": \"Zaragoza\",\n",
    "    \"0416\": \"El Tejar\",\n",
    "    \"0501\": \"Escuintla\",\n",
    "    \"0502\": \"Santa Lucía Cotzumalguapa\",\n",
    "    \"0503\": \"La Democracia\",\n",
    "    \"0504\": \"Siquinalá\",\n",
    "    \"0505\": \"Masagua\",\n",
    "    \"0506\": \"Tiquisate\",\n",
    "    \"0507\": \"La Gomera\",\n",
    "    \"0508\": \"Guanagazapa\",\n",
    "    \"0509\": \"San José\",\n",
    "    \"0510\": \"Iztapa\",\n",
    "    \"0511\": \"Palín\",\n",
    "    \"0512\": \"San Vicente Pacaya\",\n",
    "    \"0513\": \"Nueva Concepción\",\n",
    "    \"0514\": \"Sipacate\",\n",
    "    \"0601\": \"Cuilapa\",\n",
    "    \"0602\": \"Barberena\",\n",
    "    \"0603\": \"Santa Rosa de Lima\",\n",
    "    \"0604\": \"Casillas\",\n",
    "    \"0605\": \"San Rafael las Flores\",\n",
    "    \"0606\": \"Oratorio\",\n",
    "    \"0607\": \"San Juan Tecuaco\",\n",
    "    \"0608\": \"Chiquimulilla\",\n",
    "    \"0609\": \"Taxisco\",\n",
    "    \"0610\": \"Santa María Ixhuatán\",\n",
    "    \"0611\": \"Guazacapán\",\n",
    "    \"0612\": \"Santa Cruz Naranjo\",\n",
    "    \"0613\": \"Pueblo Nuevo Viñas\",\n",
    "    \"0614\": \"Nueva Santa Rosa\",\n",
    "    \"0701\": \"Sololá\",\n",
    "    \"0702\": \"San José Chacayá\",\n",
    "    \"0703\": \"Santa María Visitación\",\n",
    "    \"0704\": \"Santa Lucía Utatlán\",\n",
    "    \"0705\": \"Nahualá\",\n",
    "    \"0706\": \"Santa Catarina Ixtahuacán\",\n",
    "    \"0707\": \"Santa Clara la Laguna\",\n",
    "    \"0708\": \"Concepción\",\n",
    "    \"0709\": \"San Andrés Semetabaj\",\n",
    "    \"0710\": \"Panajachel\",\n",
    "    \"0711\": \"Santa Catarina Palopó\",\n",
    "    \"0712\": \"San Antonio Palopó\",\n",
    "    \"0713\": \"San Lucas Tolimán\",\n",
    "    \"0714\": \"Santa Cruz la Laguna\",\n",
    "    \"0715\": \"San Pablo la Laguna\",\n",
    "    \"0716\": \"San Marcos la Laguna\",\n",
    "    \"0717\": \"San Juan la Laguna\",\n",
    "    \"0718\": \"San Pedro la Laguna\",\n",
    "    \"0719\": \"Santiago Atitlán\",\n",
    "    \"0801\": \"Totonicapán\",\n",
    "    \"0802\": \"San Cristóbal Totonicapán\",\n",
    "    \"0803\": \"San Francisco el Alto\",\n",
    "    \"0804\": \"San Andrés Xecul\",\n",
    "    \"0805\": \"Momostenango\",\n",
    "    \"0806\": \"Santa María Chiquimula\",\n",
    "    \"0807\": \"Santa Lucía la Reforma\",\n",
    "    \"0808\": \"San Bartolo\",\n",
    "    \"0901\": \"Quetzaltenango\",\n",
    "    \"0902\": \"Salcajá\",\n",
    "    \"0903\": \"Olintepeque\",\n",
    "    \"0904\": \"San Carlos Sija\",\n",
    "    \"0905\": \"Sibilia\",\n",
    "    \"0906\": \"Cabricán\",\n",
    "    \"0907\": \"Cajolá\",\n",
    "    \"0908\": \"San Miguel Siguilá\",\n",
    "    \"0909\": \"Ostuncalco\",\n",
    "    \"0910\": \"San Mateo\",\n",
    "    \"0911\": \"Concepción Chiquirichapa\",\n",
    "    \"0912\": \"San Martín Sacatepéquez\",\n",
    "    \"0913\": \"Almolonga\",\n",
    "    \"0914\": \"Cantel\",\n",
    "    \"0915\": \"Huitán\",\n",
    "    \"0916\": \"Zunil\",\n",
    "    \"0917\": \"Colomba\",\n",
    "    \"0918\": \"San Francisco la Unión\",\n",
    "    \"0919\": \"El Palmar\",\n",
    "    \"0920\": \"Coatepeque\",\n",
    "    \"0921\": \"Génova\",\n",
    "    \"0922\": \"Flores Costa Cuca\",\n",
    "    \"0923\": \"La Esperanza\",\n",
    "    \"0924\": \"Palestina de los Altos\",\n",
    "    \"1001\": \"Mazatenango\",\n",
    "    \"1002\": \"Cuyotenango\",\n",
    "    \"1003\": \"San Francisco Zapotitlán\",\n",
    "    \"1004\": \"San Bernardino\",\n",
    "    \"1005\": \"San José el Idolo\",\n",
    "    \"1006\": \"Santo Domingo Suchitepéquez\",\n",
    "    \"1007\": \"San Lorenzo\",\n",
    "    \"1008\": \"Samayac\",\n",
    "    \"1009\": \"San Pablo Jocopilas\",\n",
    "    \"1010\": \"San Antonio Suchitepéquez\",\n",
    "    \"1011\": \"San Miguel Panán\",\n",
    "    \"1012\": \"San Gabriel\",\n",
    "    \"1013\": \"Chicacao\",\n",
    "    \"1014\": \"Patulul\",\n",
    "    \"1015\": \"Santa Bárbara\",\n",
    "    \"1016\": \"San Juan Bautista\",\n",
    "    \"1017\": \"Santo Tomás la Unión\",\n",
    "    \"1018\": \"Zunilito\",\n",
    "    \"1019\": \"Pueblo Nuevo\",\n",
    "    \"1020\": \"Río Bravo\",\n",
    "    \"1021\": \"San José la Maquina\", # La Máquina\n",
    "    \"1101\": \"Retalhuleu\",\n",
    "    \"1102\": \"San Sebastián\",\n",
    "    \"1103\": \"Santa Cruz Muluá\",\n",
    "    \"1104\": \"San Martín Zapotitlán\",\n",
    "    \"1105\": \"San Felipe\",\n",
    "    \"1106\": \"San Andrés Villa Seca\",\n",
    "    \"1107\": \"Champerico\",\n",
    "    \"1108\": \"Nuevo San Carlos\",\n",
    "    \"1109\": \"El Asintal\",\n",
    "    \"1201\": \"San Marcos\",\n",
    "    \"1202\": \"San Pedro Sacatepéquez\",\n",
    "    \"1203\": \"San Antonio Sacatepéquez\",\n",
    "    \"1204\": \"Comitancillo\",\n",
    "    \"1205\": \"San Miguel Ixtahuacán\",\n",
    "    \"1206\": \"Concepción Tutuapa\",\n",
    "    \"1207\": \"Tacaná\",\n",
    "    \"1208\": \"Sibinal\",\n",
    "    \"1209\": \"Tajumulco\",\n",
    "    \"1210\": \"Tejutla\",\n",
    "    \"1211\": \"San Rafael Pié de la Cuesta\",\n",
    "    \"1212\": \"Nuevo Progreso\",\n",
    "    \"1213\": \"El Tumbador\",\n",
    "    \"1214\": \"El Rodeo\",\n",
    "    \"1215\": \"Malacatán\",\n",
    "    \"1216\": \"Catarina\",\n",
    "    \"1217\": \"Ayutla\",\n",
    "    \"1218\": \"Ocós\",\n",
    "    \"1219\": \"San Pablo\",\n",
    "    \"1220\": \"El Quetzal\",\n",
    "    \"1221\": \"La Reforma\",\n",
    "    \"1222\": \"Pajapita\",\n",
    "    \"1223\": \"Ixchiguán\",\n",
    "    \"1224\": \"San José Ojetenán\",\n",
    "    \"1225\": \"San Cristóbal Cucho\",\n",
    "    \"1226\": \"Sipacapa\",\n",
    "    \"1227\": \"Esquipulas Palo Gordo\",\n",
    "    \"1228\": \"Río Blanco\",\n",
    "    \"1229\": \"San Lorenzo\",\n",
    "    \"1230\": \"La Blanca\",\n",
    "    \"1301\": \"Huehuetenango\",\n",
    "    \"1302\": \"Chiantla\",\n",
    "    \"1303\": \"Malacatancito\",\n",
    "    \"1304\": \"Cuilco\",\n",
    "    \"1305\": \"Nentón\",\n",
    "    \"1306\": \"San Pedro Necta\",\n",
    "    \"1307\": \"Jacaltenango\",\n",
    "    \"1308\": \"Soloma\",\n",
    "    \"1309\": \"Ixtahuacán\",\n",
    "    \"1310\": \"Santa Bárbara\",\n",
    "    \"1311\": \"La Libertad\",\n",
    "    \"1312\": \"La Democracia\",\n",
    "    \"1313\": \"San Miguel Acatán\",\n",
    "    \"1314\": \"San Rafael la Independencia\",\n",
    "    \"1315\": \"Todos Santos Cuchumatán\",\n",
    "    \"1316\": \"San Juan Atitán\",\n",
    "    \"1317\": \"Santa Eulalia\",\n",
    "    \"1318\": \"San Mateo Ixtatán\",\n",
    "    \"1319\": \"Colotenango\",\n",
    "    \"1320\": \"San Sebastián Huehuetenango\",\n",
    "    \"1321\": \"Tectitán\",\n",
    "    \"1322\": \"Concepción Huista\",\n",
    "    \"1323\": \"San Juan Ixcoy\",\n",
    "    \"1324\": \"San Antonio Huista\",\n",
    "    \"1325\": \"San Sebastián Coatán\",\n",
    "    \"1326\": \"Barillas\",\n",
    "    \"1327\": \"Aguacatán\",\n",
    "    \"1328\": \"San Rafael Petzal\",\n",
    "    \"1329\": \"San Gaspar Ixchil\",\n",
    "    \"1330\": \"Santiago Chimaltenango\",\n",
    "    \"1331\": \"Santa Ana Huista\",\n",
    "    \"1332\": \"Unión Cantinil\",\n",
    "    \"1333\": \"Petatán\",\n",
    "    \"1401\": \"Santa Cruz del Quiché\",\n",
    "    \"1402\": \"Chiché\",\n",
    "    \"1403\": \"Chinique\",\n",
    "    \"1404\": \"Zacualpa\",\n",
    "    \"1405\": \"Chajul\",\n",
    "    \"1406\": \"Chichicastenango\",\n",
    "    \"1407\": \"Patzité\",\n",
    "    \"1408\": \"San Antonio Ilotenango\",\n",
    "    \"1409\": \"San Pedro Jocopilas\",\n",
    "    \"1410\": \"Cunén\",\n",
    "    \"1411\": \"San Juan Cotzal\",\n",
    "    \"1412\": \"Joyabaj\",\n",
    "    \"1413\": \"Nebaj\",\n",
    "    \"1414\": \"San Andrés Sajcabajá\",\n",
    "    \"1415\": \"Uspantán\",\n",
    "    \"1416\": \"Sacapulas\",\n",
    "    \"1417\": \"San Bartolomé Jocotenango\",\n",
    "    \"1418\": \"Canillá\",\n",
    "    \"1419\": \"Chicamán\",\n",
    "    \"1420\": \"Ixcán\",\n",
    "    \"1421\": \"Pachalum\",\n",
    "    \"1501\": \"Salamá\",\n",
    "    \"1502\": \"San Miguel Chicaj\",\n",
    "    \"1503\": \"Rabinal\",\n",
    "    \"1504\": \"Cubulco\",\n",
    "    \"1505\": \"Granados\",\n",
    "    \"1506\": \"El Chol\",\n",
    "    \"1507\": \"San Jerónimo\",\n",
    "    \"1508\": \"Purulhá\",\n",
    "    \"1601\": \"Cobán\",\n",
    "    \"1602\": \"Santa Cruz Verapaz\",\n",
    "    \"1603\": \"San Cristóbal Verapaz\",\n",
    "    \"1604\": \"Tactic\",\n",
    "    \"1605\": \"Tamahú\",\n",
    "    \"1606\": \"Tucurú\",\n",
    "    \"1607\": \"Panzós\",\n",
    "    \"1608\": \"Senahú\",\n",
    "    \"1609\": \"San Pedro Carchá\",\n",
    "    \"1610\": \"San Juan Chamelco\",\n",
    "    \"1611\": \"Lanquín\",\n",
    "    \"1612\": \"Cahabón\",\n",
    "    \"1613\": \"Chisec\",\n",
    "    \"1614\": \"Chahal\",\n",
    "    \"1615\": \"Fray Bartolomé de las Casas\",\n",
    "    \"1616\": \"Santa Catalina la Tinta\",\n",
    "    \"1617\": \"Raxruhá\",\n",
    "    \"1701\": \"Flores\",\n",
    "    \"1702\": \"San José\",\n",
    "    \"1703\": \"San Benito\",\n",
    "    \"1704\": \"San Andrés\",\n",
    "    \"1705\": \"La Libertad\",\n",
    "    \"1706\": \"San Francisco\",\n",
    "    \"1707\": \"Santa Ana\",\n",
    "    \"1708\": \"Dolores\",\n",
    "    \"1709\": \"San Luis\",\n",
    "    \"1710\": \"Sayaxché\",\n",
    "    \"1711\": \"Melchor de Mencos\",\n",
    "    \"1712\": \"Poptún\",\n",
    "    \"1713\": \"Las Cruces\",\n",
    "    \"1714\": \"El Chal\",\n",
    "    \"1801\": \"Puerto Barrios\",\n",
    "    \"1802\": \"Livingston\",\n",
    "    \"1803\": \"El Estor\",\n",
    "    \"1804\": \"Morales\",\n",
    "    \"1805\": \"Los Amates\",\n",
    "    \"1901\": \"Zacapa\",\n",
    "    \"1902\": \"Estanzuela\",\n",
    "    \"1903\": \"Río Hondo\",\n",
    "    \"1904\": \"Gualán\",\n",
    "    \"1905\": \"Teculután\",\n",
    "    \"1906\": \"Usumatlán\",\n",
    "    \"1907\": \"Cabañas\",\n",
    "    \"1908\": \"San Diego\",\n",
    "    \"1909\": \"La Unión\",\n",
    "    \"1910\": \"Huité\",\n",
    "    \"1911\": \"San Jorge\",\n",
    "    \"2001\": \"Chiquimula\",\n",
    "    \"2002\": \"San José La Arada\",\n",
    "    \"2003\": \"San Juan Ermita\",\n",
    "    \"2004\": \"Jocotán\",\n",
    "    \"2005\": \"Camotán\",\n",
    "    \"2006\": \"Olopa\",\n",
    "    \"2007\": \"Esquipulas\",\n",
    "    \"2008\": \"Concepción Las Minas\",\n",
    "    \"2009\": \"Quetzaltepeque\",\n",
    "    \"2010\": \"San Jacinto\",\n",
    "    \"2011\": \"Ipala\",\n",
    "    \"2101\": \"Jalapa\",\n",
    "    \"2102\": \"San Pedro Pinula\",\n",
    "    \"2103\": \"San Luis Jilotepeque\",\n",
    "    \"2104\": \"San Manuel Chaparrón\",\n",
    "    \"2105\": \"San Carlos Alzatate\",\n",
    "    \"2106\": \"Monjas\",\n",
    "    \"2107\": \"Mataquescuintla\",\n",
    "    \"2201\": \"Jutiapa\",\n",
    "    \"2202\": \"El Progreso\",\n",
    "    \"2203\": \"Santa Catarina Mita\",\n",
    "    \"2204\": \"Agua Blanca\",\n",
    "    \"2205\": \"Asunción Mita\",\n",
    "    \"2206\": \"Yupiltepeque\",\n",
    "    \"2207\": \"Atescatempa\",\n",
    "    \"2208\": \"Jerez\",\n",
    "    \"2209\": \"El Adelanto\",\n",
    "    \"2210\": \"Zapotitlán\",\n",
    "    \"2211\": \"Comapa\",\n",
    "    \"2212\": \"Jalpatagua\",\n",
    "    \"2213\": \"Conguaco\",\n",
    "    \"2214\": \"Moyuta\",\n",
    "    \"2215\": \"Pasaco\",\n",
    "    \"2216\": \"San José Acatempa\",\n",
    "    \"2217\": \"Quesada\"\n",
    "}\n",
    "\n",
    "MUPREG_inverted = {v: k for k, v in MUPREG.items()}\n",
    "df['MUPREG'] = df['MUPREG'].map(MUPREG_inverted)\n",
    "df[df['MUPREG'].isna()][[\"MUPREG\", \"MUPREG\"]]\n"
   ]
  },
  {
   "cell_type": "code",
   "execution_count": 168,
   "id": "f5550574",
   "metadata": {},
   "outputs": [
    {
     "data": {
      "application/vnd.microsoft.datawrangler.viewer.v0+json": {
       "columns": [
        {
         "name": "index",
         "rawType": "int64",
         "type": "integer"
        },
        {
         "name": "MESREG",
         "rawType": "int64",
         "type": "integer"
        }
       ],
       "conversionMethod": "pd.DataFrame",
       "ref": "bc5bf827-c855-4c7e-afb9-e580298abeff",
       "rows": [],
       "shape": {
        "columns": 1,
        "rows": 0
       }
      },
      "text/html": [
       "<div>\n",
       "<style scoped>\n",
       "    .dataframe tbody tr th:only-of-type {\n",
       "        vertical-align: middle;\n",
       "    }\n",
       "\n",
       "    .dataframe tbody tr th {\n",
       "        vertical-align: top;\n",
       "    }\n",
       "\n",
       "    .dataframe thead th {\n",
       "        text-align: right;\n",
       "    }\n",
       "</style>\n",
       "<table border=\"1\" class=\"dataframe\">\n",
       "  <thead>\n",
       "    <tr style=\"text-align: right;\">\n",
       "      <th></th>\n",
       "      <th>MESREG</th>\n",
       "    </tr>\n",
       "  </thead>\n",
       "  <tbody>\n",
       "  </tbody>\n",
       "</table>\n",
       "</div>"
      ],
      "text/plain": [
       "Empty DataFrame\n",
       "Columns: [MESREG]\n",
       "Index: []"
      ]
     },
     "execution_count": 168,
     "metadata": {},
     "output_type": "execute_result"
    }
   ],
   "source": [
    "MESREG = {\n",
    "    1: \"Enero\",\n",
    "    2: \"Febrero\",\n",
    "    3: \"Marzo\",\n",
    "    4: \"Abril\",\n",
    "    5: \"Mayo\",\n",
    "    6: \"Junio\",\n",
    "    7: \"Julio\",\n",
    "    8: \"Agosto\",\n",
    "    9: \"Septiembre\",\n",
    "    10: \"Octubre\",\n",
    "    11: \"Noviembre\",\n",
    "    12: \"Diciembre\"\n",
    "}\n",
    "\n",
    "MESREG_inverted = {v: k for k, v in MESREG.items()}\n",
    "df['MESREG'] = df['MESREG'].map(MESREG_inverted)\n",
    "df[df['MESREG'].isna()][[\"MESREG\"]]"
   ]
  },
  {
   "cell_type": "code",
   "execution_count": 169,
   "id": "56b8f5de",
   "metadata": {},
   "outputs": [
    {
     "data": {
      "application/vnd.microsoft.datawrangler.viewer.v0+json": {
       "columns": [
        {
         "name": "index",
         "rawType": "int64",
         "type": "integer"
        },
        {
         "name": "MESOCU",
         "rawType": "int64",
         "type": "integer"
        }
       ],
       "conversionMethod": "pd.DataFrame",
       "ref": "254c7b1a-ee22-4c24-848e-69f861ba9359",
       "rows": [],
       "shape": {
        "columns": 1,
        "rows": 0
       }
      },
      "text/html": [
       "<div>\n",
       "<style scoped>\n",
       "    .dataframe tbody tr th:only-of-type {\n",
       "        vertical-align: middle;\n",
       "    }\n",
       "\n",
       "    .dataframe tbody tr th {\n",
       "        vertical-align: top;\n",
       "    }\n",
       "\n",
       "    .dataframe thead th {\n",
       "        text-align: right;\n",
       "    }\n",
       "</style>\n",
       "<table border=\"1\" class=\"dataframe\">\n",
       "  <thead>\n",
       "    <tr style=\"text-align: right;\">\n",
       "      <th></th>\n",
       "      <th>MESOCU</th>\n",
       "    </tr>\n",
       "  </thead>\n",
       "  <tbody>\n",
       "  </tbody>\n",
       "</table>\n",
       "</div>"
      ],
      "text/plain": [
       "Empty DataFrame\n",
       "Columns: [MESOCU]\n",
       "Index: []"
      ]
     },
     "execution_count": 169,
     "metadata": {},
     "output_type": "execute_result"
    }
   ],
   "source": [
    "df['MESOCU'] = df['MESOCU'].map(MESREG_inverted)\n",
    "df[df['MESOCU'].isna()][[\"MESOCU\"]]"
   ]
  },
  {
   "cell_type": "code",
   "execution_count": 170,
   "id": "040abb96",
   "metadata": {},
   "outputs": [
    {
     "data": {
      "application/vnd.microsoft.datawrangler.viewer.v0+json": {
       "columns": [
        {
         "name": "index",
         "rawType": "int64",
         "type": "integer"
        },
        {
         "name": "DEPOCU",
         "rawType": "int64",
         "type": "integer"
        }
       ],
       "conversionMethod": "pd.DataFrame",
       "ref": "f6e4190c-f86c-4930-8bf0-d6f87be7e2d7",
       "rows": [],
       "shape": {
        "columns": 1,
        "rows": 0
       }
      },
      "text/html": [
       "<div>\n",
       "<style scoped>\n",
       "    .dataframe tbody tr th:only-of-type {\n",
       "        vertical-align: middle;\n",
       "    }\n",
       "\n",
       "    .dataframe tbody tr th {\n",
       "        vertical-align: top;\n",
       "    }\n",
       "\n",
       "    .dataframe thead th {\n",
       "        text-align: right;\n",
       "    }\n",
       "</style>\n",
       "<table border=\"1\" class=\"dataframe\">\n",
       "  <thead>\n",
       "    <tr style=\"text-align: right;\">\n",
       "      <th></th>\n",
       "      <th>DEPOCU</th>\n",
       "    </tr>\n",
       "  </thead>\n",
       "  <tbody>\n",
       "  </tbody>\n",
       "</table>\n",
       "</div>"
      ],
      "text/plain": [
       "Empty DataFrame\n",
       "Columns: [DEPOCU]\n",
       "Index: []"
      ]
     },
     "execution_count": 170,
     "metadata": {},
     "output_type": "execute_result"
    }
   ],
   "source": [
    "df['DEPOCU'] = df['DEPOCU'].map(DEPREG_inverted)\n",
    "df[df['DEPOCU'].isna()][[\"DEPOCU\"]]"
   ]
  },
  {
   "cell_type": "code",
   "execution_count": 171,
   "id": "2fcab992",
   "metadata": {},
   "outputs": [
    {
     "data": {
      "application/vnd.microsoft.datawrangler.viewer.v0+json": {
       "columns": [
        {
         "name": "index",
         "rawType": "int64",
         "type": "integer"
        },
        {
         "name": "MUPOCU",
         "rawType": "object",
         "type": "string"
        },
        {
         "name": "MUPOCU",
         "rawType": "object",
         "type": "string"
        }
       ],
       "conversionMethod": "pd.DataFrame",
       "ref": "1a9e6014-b67a-458c-91b1-f3d3527c2e22",
       "rows": [],
       "shape": {
        "columns": 2,
        "rows": 0
       }
      },
      "text/html": [
       "<div>\n",
       "<style scoped>\n",
       "    .dataframe tbody tr th:only-of-type {\n",
       "        vertical-align: middle;\n",
       "    }\n",
       "\n",
       "    .dataframe tbody tr th {\n",
       "        vertical-align: top;\n",
       "    }\n",
       "\n",
       "    .dataframe thead th {\n",
       "        text-align: right;\n",
       "    }\n",
       "</style>\n",
       "<table border=\"1\" class=\"dataframe\">\n",
       "  <thead>\n",
       "    <tr style=\"text-align: right;\">\n",
       "      <th></th>\n",
       "      <th>MUPOCU</th>\n",
       "      <th>MUPOCU</th>\n",
       "    </tr>\n",
       "  </thead>\n",
       "  <tbody>\n",
       "  </tbody>\n",
       "</table>\n",
       "</div>"
      ],
      "text/plain": [
       "Empty DataFrame\n",
       "Columns: [MUPOCU, MUPOCU]\n",
       "Index: []"
      ]
     },
     "execution_count": 171,
     "metadata": {},
     "output_type": "execute_result"
    }
   ],
   "source": [
    "df['MUPOCU'] = df['MUPOCU'].map(MUPREG_inverted)\n",
    "df.loc[df['MUPOCU'].isna(), \"MUPOCU\"]= \"0101\"\n",
    "df[df['MUPOCU'].isna()][[\"MUPOCU\", \"MUPOCU\"]]"
   ]
  },
  {
   "cell_type": "code",
   "execution_count": 172,
   "id": "7560eb65",
   "metadata": {},
   "outputs": [
    {
     "data": {
      "application/vnd.microsoft.datawrangler.viewer.v0+json": {
       "columns": [
        {
         "name": "index",
         "rawType": "int64",
         "type": "integer"
        },
        {
         "name": "PUEHOM",
         "rawType": "int64",
         "type": "integer"
        },
        {
         "name": "PUEHOM",
         "rawType": "int64",
         "type": "integer"
        }
       ],
       "conversionMethod": "pd.DataFrame",
       "ref": "db9b3a29-c054-411d-88ff-3706f21872bc",
       "rows": [],
       "shape": {
        "columns": 2,
        "rows": 0
       }
      },
      "text/html": [
       "<div>\n",
       "<style scoped>\n",
       "    .dataframe tbody tr th:only-of-type {\n",
       "        vertical-align: middle;\n",
       "    }\n",
       "\n",
       "    .dataframe tbody tr th {\n",
       "        vertical-align: top;\n",
       "    }\n",
       "\n",
       "    .dataframe thead th {\n",
       "        text-align: right;\n",
       "    }\n",
       "</style>\n",
       "<table border=\"1\" class=\"dataframe\">\n",
       "  <thead>\n",
       "    <tr style=\"text-align: right;\">\n",
       "      <th></th>\n",
       "      <th>PUEHOM</th>\n",
       "      <th>PUEHOM</th>\n",
       "    </tr>\n",
       "  </thead>\n",
       "  <tbody>\n",
       "  </tbody>\n",
       "</table>\n",
       "</div>"
      ],
      "text/plain": [
       "Empty DataFrame\n",
       "Columns: [PUEHOM, PUEHOM]\n",
       "Index: []"
      ]
     },
     "execution_count": 172,
     "metadata": {},
     "output_type": "execute_result"
    }
   ],
   "source": [
    "PUEHOM = {\n",
    "    1: \"Maya\",\n",
    "    2: \"Garífuna\",\n",
    "    3: \"Xinca\",\n",
    "    4: \"Ladino / Mestizo\",\n",
    "    5: \"Otro\",\n",
    "    9: \"Ignorado\"\n",
    "}\n",
    "\n",
    "PUEHOM_inverted = {v: k for k, v in PUEHOM.items()}\n",
    "df['PUEHOM'] = df['PUEHOM'].map(PUEHOM_inverted)\n",
    "df[df['PUEHOM'].isna()][[\"PUEHOM\", \"PUEHOM\"]]"
   ]
  },
  {
   "cell_type": "code",
   "execution_count": 173,
   "id": "2566eacd",
   "metadata": {},
   "outputs": [
    {
     "data": {
      "application/vnd.microsoft.datawrangler.viewer.v0+json": {
       "columns": [
        {
         "name": "index",
         "rawType": "int64",
         "type": "integer"
        },
        {
         "name": "PUEMUJ",
         "rawType": "int64",
         "type": "integer"
        },
        {
         "name": "PUEMUJ",
         "rawType": "int64",
         "type": "integer"
        }
       ],
       "conversionMethod": "pd.DataFrame",
       "ref": "3729f8c7-2d90-4f0c-8cbd-cc69494afc8e",
       "rows": [],
       "shape": {
        "columns": 2,
        "rows": 0
       }
      },
      "text/html": [
       "<div>\n",
       "<style scoped>\n",
       "    .dataframe tbody tr th:only-of-type {\n",
       "        vertical-align: middle;\n",
       "    }\n",
       "\n",
       "    .dataframe tbody tr th {\n",
       "        vertical-align: top;\n",
       "    }\n",
       "\n",
       "    .dataframe thead th {\n",
       "        text-align: right;\n",
       "    }\n",
       "</style>\n",
       "<table border=\"1\" class=\"dataframe\">\n",
       "  <thead>\n",
       "    <tr style=\"text-align: right;\">\n",
       "      <th></th>\n",
       "      <th>PUEMUJ</th>\n",
       "      <th>PUEMUJ</th>\n",
       "    </tr>\n",
       "  </thead>\n",
       "  <tbody>\n",
       "  </tbody>\n",
       "</table>\n",
       "</div>"
      ],
      "text/plain": [
       "Empty DataFrame\n",
       "Columns: [PUEMUJ, PUEMUJ]\n",
       "Index: []"
      ]
     },
     "execution_count": 173,
     "metadata": {},
     "output_type": "execute_result"
    }
   ],
   "source": [
    "PUEMUJ = {\n",
    "    1: \"Maya\",\n",
    "    2: \"Garífuna\",\n",
    "    3: \"Xinca\",\n",
    "    4: \"Ladino / Mestizo\",\n",
    "    5: \"Otro\",\n",
    "    9: \"Ignorado\"\n",
    "}\n",
    "\n",
    "PUEMUJ_inverted = {v: k for k, v in PUEMUJ.items()}\n",
    "\n",
    "df['PUEMUJ'] = df['PUEMUJ'].map(PUEMUJ_inverted)\n",
    "df[df['PUEMUJ'].isna()][[\"PUEMUJ\", \"PUEMUJ\"]]"
   ]
  },
  {
   "cell_type": "code",
   "execution_count": 174,
   "id": "ab02ffa2",
   "metadata": {},
   "outputs": [
    {
     "data": {
      "application/vnd.microsoft.datawrangler.viewer.v0+json": {
       "columns": [
        {
         "name": "index",
         "rawType": "int64",
         "type": "integer"
        },
        {
         "name": "ESCHOM",
         "rawType": "int64",
         "type": "integer"
        },
        {
         "name": "ESCHOM",
         "rawType": "int64",
         "type": "integer"
        }
       ],
       "conversionMethod": "pd.DataFrame",
       "ref": "f73d4119-b43a-44b2-8f5c-bacd5268c77a",
       "rows": [],
       "shape": {
        "columns": 2,
        "rows": 0
       }
      },
      "text/html": [
       "<div>\n",
       "<style scoped>\n",
       "    .dataframe tbody tr th:only-of-type {\n",
       "        vertical-align: middle;\n",
       "    }\n",
       "\n",
       "    .dataframe tbody tr th {\n",
       "        vertical-align: top;\n",
       "    }\n",
       "\n",
       "    .dataframe thead th {\n",
       "        text-align: right;\n",
       "    }\n",
       "</style>\n",
       "<table border=\"1\" class=\"dataframe\">\n",
       "  <thead>\n",
       "    <tr style=\"text-align: right;\">\n",
       "      <th></th>\n",
       "      <th>ESCHOM</th>\n",
       "      <th>ESCHOM</th>\n",
       "    </tr>\n",
       "  </thead>\n",
       "  <tbody>\n",
       "  </tbody>\n",
       "</table>\n",
       "</div>"
      ],
      "text/plain": [
       "Empty DataFrame\n",
       "Columns: [ESCHOM, ESCHOM]\n",
       "Index: []"
      ]
     },
     "execution_count": 174,
     "metadata": {},
     "output_type": "execute_result"
    }
   ],
   "source": [
    "def change(dictionary, field):\n",
    "    df[field] = df[field].map(dictionary)\n",
    "    return df[df[field].isna()][[field]]\n",
    "\n",
    "ESCHOM = ESCMUJ = {\n",
    "    1: \"Ninguno\",\n",
    "    2: \"Primaria\",\n",
    "    3: \"Básica\",\n",
    "    4: \"Diversificado\",\n",
    "    5: \"Universitario\",\n",
    "    6: \"Postgrado\",\n",
    "    9: \"Ignorado\"\n",
    "}\n",
    "\n",
    "ESCHOM = ESCMUJ = {\n",
    "    1: \"Ninguno\",\n",
    "    2: \"Primaria\",\n",
    "    3: \"Básico\",\n",
    "    4: \"Diversificado\",\n",
    "    5: \"Universitario\",\n",
    "    6: \"Post Grado\",\n",
    "    9: \"Ignorado\"\n",
    "} \n",
    "\n",
    "ESCHOM_inverted = {v: k for k, v in ESCHOM.items()}\n",
    "df['ESCHOM'] = df['ESCHOM'].map(ESCHOM_inverted)\n",
    "df[df[\"ESCHOM\"].isna()][[\"ESCHOM\", \"ESCHOM\"]]"
   ]
  },
  {
   "cell_type": "code",
   "execution_count": 175,
   "id": "6aae1bea",
   "metadata": {},
   "outputs": [
    {
     "data": {
      "application/vnd.microsoft.datawrangler.viewer.v0+json": {
       "columns": [
        {
         "name": "index",
         "rawType": "int64",
         "type": "integer"
        },
        {
         "name": "ESCMUJ",
         "rawType": "int64",
         "type": "integer"
        }
       ],
       "conversionMethod": "pd.DataFrame",
       "ref": "1c00d8b1-5b2d-4184-b2ad-010e46cd8db3",
       "rows": [],
       "shape": {
        "columns": 1,
        "rows": 0
       }
      },
      "text/html": [
       "<div>\n",
       "<style scoped>\n",
       "    .dataframe tbody tr th:only-of-type {\n",
       "        vertical-align: middle;\n",
       "    }\n",
       "\n",
       "    .dataframe tbody tr th {\n",
       "        vertical-align: top;\n",
       "    }\n",
       "\n",
       "    .dataframe thead th {\n",
       "        text-align: right;\n",
       "    }\n",
       "</style>\n",
       "<table border=\"1\" class=\"dataframe\">\n",
       "  <thead>\n",
       "    <tr style=\"text-align: right;\">\n",
       "      <th></th>\n",
       "      <th>ESCMUJ</th>\n",
       "    </tr>\n",
       "  </thead>\n",
       "  <tbody>\n",
       "  </tbody>\n",
       "</table>\n",
       "</div>"
      ],
      "text/plain": [
       "Empty DataFrame\n",
       "Columns: [ESCMUJ]\n",
       "Index: []"
      ]
     },
     "execution_count": 175,
     "metadata": {},
     "output_type": "execute_result"
    }
   ],
   "source": [
    "change(ESCHOM_inverted, \"ESCMUJ\")"
   ]
  },
  {
   "cell_type": "code",
   "execution_count": 176,
   "id": "eead82db",
   "metadata": {},
   "outputs": [
    {
     "data": {
      "application/vnd.microsoft.datawrangler.viewer.v0+json": {
       "columns": [
        {
         "name": "index",
         "rawType": "int64",
         "type": "integer"
        },
        {
         "name": "CIUOHOM",
         "rawType": "int64",
         "type": "integer"
        }
       ],
       "conversionMethod": "pd.DataFrame",
       "ref": "359f4fc0-681d-4eeb-929a-b067b3b584fb",
       "rows": [],
       "shape": {
        "columns": 1,
        "rows": 0
       }
      },
      "text/html": [
       "<div>\n",
       "<style scoped>\n",
       "    .dataframe tbody tr th:only-of-type {\n",
       "        vertical-align: middle;\n",
       "    }\n",
       "\n",
       "    .dataframe tbody tr th {\n",
       "        vertical-align: top;\n",
       "    }\n",
       "\n",
       "    .dataframe thead th {\n",
       "        text-align: right;\n",
       "    }\n",
       "</style>\n",
       "<table border=\"1\" class=\"dataframe\">\n",
       "  <thead>\n",
       "    <tr style=\"text-align: right;\">\n",
       "      <th></th>\n",
       "      <th>CIUOHOM</th>\n",
       "    </tr>\n",
       "  </thead>\n",
       "  <tbody>\n",
       "  </tbody>\n",
       "</table>\n",
       "</div>"
      ],
      "text/plain": [
       "Empty DataFrame\n",
       "Columns: [CIUOHOM]\n",
       "Index: []"
      ]
     },
     "execution_count": 176,
     "metadata": {},
     "output_type": "execute_result"
    }
   ],
   "source": [
    "ocupationsExcel = pd.read_excel('./data/Ocupaciones.xls', )\n",
    "\n",
    "CIUOHOM = dict(zip(ocupationsExcel.iloc[:, 1], ocupationsExcel.iloc[:, 0]))\n",
    "\n",
    "\n",
    "df.loc[df[\"CIUOHOM\"]==\"Directores ejecutivos, personal directivo de administración pública, miembros del poder ejecutivo y cuerpos legislativos\", \"CIUOHOM\"] = \\\n",
    "\"Directores ejecutivos, personal directivo de la administración pública y miembros del poder ejecutivo y de los cuerpos legislativos\"\n",
    "\n",
    "df['CIUOHOM'] = df['CIUOHOM'].map(CIUOHOM)\n",
    "df[df[\"CIUOHOM\"].isna()][[\"CIUOHOM\"]]\n"
   ]
  },
  {
   "cell_type": "code",
   "execution_count": 177,
   "id": "5be9cdb7",
   "metadata": {},
   "outputs": [
    {
     "data": {
      "application/vnd.microsoft.datawrangler.viewer.v0+json": {
       "columns": [
        {
         "name": "index",
         "rawType": "int64",
         "type": "integer"
        },
        {
         "name": "CIUOMUJ",
         "rawType": "int64",
         "type": "integer"
        }
       ],
       "conversionMethod": "pd.DataFrame",
       "ref": "dba3dc8d-1acb-49c3-af41-997ed4b8a6df",
       "rows": [],
       "shape": {
        "columns": 1,
        "rows": 0
       }
      },
      "text/html": [
       "<div>\n",
       "<style scoped>\n",
       "    .dataframe tbody tr th:only-of-type {\n",
       "        vertical-align: middle;\n",
       "    }\n",
       "\n",
       "    .dataframe tbody tr th {\n",
       "        vertical-align: top;\n",
       "    }\n",
       "\n",
       "    .dataframe thead th {\n",
       "        text-align: right;\n",
       "    }\n",
       "</style>\n",
       "<table border=\"1\" class=\"dataframe\">\n",
       "  <thead>\n",
       "    <tr style=\"text-align: right;\">\n",
       "      <th></th>\n",
       "      <th>CIUOMUJ</th>\n",
       "    </tr>\n",
       "  </thead>\n",
       "  <tbody>\n",
       "  </tbody>\n",
       "</table>\n",
       "</div>"
      ],
      "text/plain": [
       "Empty DataFrame\n",
       "Columns: [CIUOMUJ]\n",
       "Index: []"
      ]
     },
     "execution_count": 177,
     "metadata": {},
     "output_type": "execute_result"
    }
   ],
   "source": [
    "del ocupationsExcel\n",
    "\n",
    "df.loc[df[\"CIUOMUJ\"]==\"Directores ejecutivos, personal directivo de administración pública, miembros del poder ejecutivo y cuerpos legislativos\", \"CIUOMUJ\"] = \\\n",
    "\"Directores ejecutivos, personal directivo de la administración pública y miembros del poder ejecutivo y de los cuerpos legislativos\"\n",
    "\n",
    "df['CIUOMUJ'] = df['CIUOMUJ'].map(CIUOHOM)\n",
    "df[df[\"CIUOMUJ\"].isna()][[\"CIUOMUJ\"]]"
   ]
  },
  {
   "cell_type": "code",
   "execution_count": 178,
   "id": "8bc683b8",
   "metadata": {},
   "outputs": [
    {
     "data": {
      "application/vnd.microsoft.datawrangler.viewer.v0+json": {
       "columns": [
        {
         "name": "index",
         "rawType": "int64",
         "type": "integer"
        },
        {
         "name": "NACHOM",
         "rawType": "int64",
         "type": "integer"
        },
        {
         "name": "NACHOM",
         "rawType": "int64",
         "type": "integer"
        }
       ],
       "conversionMethod": "pd.DataFrame",
       "ref": "948bbcf8-0d94-4c8b-8997-803eedb213ec",
       "rows": [],
       "shape": {
        "columns": 2,
        "rows": 0
       }
      },
      "text/html": [
       "<div>\n",
       "<style scoped>\n",
       "    .dataframe tbody tr th:only-of-type {\n",
       "        vertical-align: middle;\n",
       "    }\n",
       "\n",
       "    .dataframe tbody tr th {\n",
       "        vertical-align: top;\n",
       "    }\n",
       "\n",
       "    .dataframe thead th {\n",
       "        text-align: right;\n",
       "    }\n",
       "</style>\n",
       "<table border=\"1\" class=\"dataframe\">\n",
       "  <thead>\n",
       "    <tr style=\"text-align: right;\">\n",
       "      <th></th>\n",
       "      <th>NACHOM</th>\n",
       "      <th>NACHOM</th>\n",
       "    </tr>\n",
       "  </thead>\n",
       "  <tbody>\n",
       "  </tbody>\n",
       "</table>\n",
       "</div>"
      ],
      "text/plain": [
       "Empty DataFrame\n",
       "Columns: [NACHOM, NACHOM]\n",
       "Index: []"
      ]
     },
     "execution_count": 178,
     "metadata": {},
     "output_type": "execute_result"
    }
   ],
   "source": [
    "nacionality_man = pd.read_excel('./data/nacionalidad_hombre.xls').drop_duplicates()\n",
    "NACHOM = dict(zip(nacionality_man.iloc[:, 1], nacionality_man.iloc[:, 0]))\n",
    "\n",
    "#df['NACHOM'] = df['NACHOM'].astype(int)\n",
    "\n",
    "df['NACHOM'] = df['NACHOM'].map(NACHOM)\n",
    "df[df[\"NACHOM\"].isna()][[\"NACHOM\", \"NACHOM\"]]"
   ]
  },
  {
   "cell_type": "code",
   "execution_count": 179,
   "id": "7c1874e3",
   "metadata": {},
   "outputs": [
    {
     "data": {
      "application/vnd.microsoft.datawrangler.viewer.v0+json": {
       "columns": [
        {
         "name": "index",
         "rawType": "int64",
         "type": "integer"
        },
        {
         "name": "NACMUJ",
         "rawType": "int64",
         "type": "integer"
        },
        {
         "name": "NACMUJ",
         "rawType": "int64",
         "type": "integer"
        }
       ],
       "conversionMethod": "pd.DataFrame",
       "ref": "b9ad0b15-e7ec-4c81-a357-f9afd6517a47",
       "rows": [],
       "shape": {
        "columns": 2,
        "rows": 0
       }
      },
      "text/html": [
       "<div>\n",
       "<style scoped>\n",
       "    .dataframe tbody tr th:only-of-type {\n",
       "        vertical-align: middle;\n",
       "    }\n",
       "\n",
       "    .dataframe tbody tr th {\n",
       "        vertical-align: top;\n",
       "    }\n",
       "\n",
       "    .dataframe thead th {\n",
       "        text-align: right;\n",
       "    }\n",
       "</style>\n",
       "<table border=\"1\" class=\"dataframe\">\n",
       "  <thead>\n",
       "    <tr style=\"text-align: right;\">\n",
       "      <th></th>\n",
       "      <th>NACMUJ</th>\n",
       "      <th>NACMUJ</th>\n",
       "    </tr>\n",
       "  </thead>\n",
       "  <tbody>\n",
       "  </tbody>\n",
       "</table>\n",
       "</div>"
      ],
      "text/plain": [
       "Empty DataFrame\n",
       "Columns: [NACMUJ, NACMUJ]\n",
       "Index: []"
      ]
     },
     "execution_count": 179,
     "metadata": {},
     "output_type": "execute_result"
    }
   ],
   "source": [
    "nacionality_muj = pd.read_excel('./data/nacionalidad_mujer.xls').drop_duplicates()\n",
    "NACMUJ = dict(zip(nacionality_muj.iloc[:, 1], nacionality_muj.iloc[:, 0]))\n",
    "\n",
    "df['NACMUJ'] = df['NACMUJ'].map(NACMUJ)\n",
    "df[df[\"NACMUJ\"].isna()][[\"NACMUJ\", \"NACMUJ\"]]"
   ]
  },
  {
   "cell_type": "code",
   "execution_count": 180,
   "id": "60865ace",
   "metadata": {},
   "outputs": [],
   "source": [
    "df.loc[df[\"EDADHOM\"] == \"Ignorado\", \"EDADHOM\"] = \"999.0\"\n",
    "df.loc[df[\"EDADMUJ\"] == \"Ignorado\", \"EDADMUJ\"] = \"999.0\"\n",
    "df['EDADHOM'] = df['EDADHOM'].astype(float).astype(int)\n",
    "df['EDADMUJ'] = df['EDADMUJ'].astype(float).astype(int)\n",
    "df['DIAOCU'] = df['DIAOCU'].astype(int)\n",
    "df['AÑOOCU'] = df['AÑOOCU'].astype(int)\n",
    "df['AÑOREG'] = df['AÑOOCU'].astype(int)"
   ]
  },
  {
   "cell_type": "code",
   "execution_count": null,
   "id": "81c39ff1",
   "metadata": {},
   "outputs": [],
   "source": [
    "sample_df = df.sample(n=6970, random_state=42)\n",
    "#sample_df\n",
    "df[df.isnull().any(axis=1)]\n",
    "#df.to_csv('./data/marriages/2020-e.csv', index=False)"
   ]
  }
 ],
 "metadata": {
  "kernelspec": {
   "display_name": ".venv",
   "language": "python",
   "name": "python3"
  },
  "language_info": {
   "codemirror_mode": {
    "name": "ipython",
    "version": 3
   },
   "file_extension": ".py",
   "mimetype": "text/x-python",
   "name": "python",
   "nbconvert_exporter": "python",
   "pygments_lexer": "ipython3",
   "version": "3.13.2"
  }
 },
 "nbformat": 4,
 "nbformat_minor": 5
}
