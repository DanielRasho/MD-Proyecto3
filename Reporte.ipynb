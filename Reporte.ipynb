{
 "cells": [
  {
   "cell_type": "markdown",
   "metadata": {},
   "source": [
    "# Proyecto 3 - Minería de datos\n",
    "***Universidad del Valle de Guatemala***\n",
    "\n",
    "___24 de marzo, 2025___\n",
    "\n",
    "**Autores:**\n",
    "- Daniel Alfredo Rayo Roldán\n",
    "- Gerardo Pineda\n",
    "- Juan Luis\n",
    "\n",
    "# Introducción\n",
    "\n",
    "\n",
    "# Situación Problemática\n",
    "\n",
    "## Objetivos Generales\n",
    "\n",
    "## Objetivos Específicos"
   ]
  },
  {
   "cell_type": "markdown",
   "metadata": {},
   "source": [
    "# Descripción de los datos\n",
    "Para iniciar el estudio se estrajeron las observaciones de divorcios hechas por el INE sobre el tema desde los años del 2013 hasta el 2023 (11 años). Se necesito hacer una cierta preprocesado, dado que las disposición y nombre de las variables cambio ligeramente a lo largo de los años.\n",
    "\n",
    "**Variables númericas:**\n",
    "\n",
    "| Descripcion | Codificación |\n",
    "|-----------------|-------|\n",
    "| Edad del hombre | EDADHOM  |\n",
    "| Edad de la mujer | EDADMUJ |\n",
    "\n",
    "**Variables categóricas:**\n",
    "| Descripcion | Codificación |\n",
    "|-----------------------------------|-------|\n",
    "| Departamento de registro          | DEPREG |\n",
    "| Municipio de registro             | MUPREG   |\n",
    "| Mes de registro                   | MESREG   |\n",
    "| Año de registro                   | AÑOREG   |\n",
    "| Día de ocurrencia                 | DIACU |\n",
    "| Mes de ocurrencia                 | MESOCU  |\n",
    "| Año de ocurrencia                 | AÑOOCU |\n",
    "| Departamento de ocurrencia        | DEPOCU |\n",
    "| Municipio de ocurrencia           |  MUPOCU |\n",
    "| Grupo étnico del hombre           | PUEHOM |\n",
    "| Grupo étnico de la mujer          | PUEMUJ |\n",
    "| Nacionalidad del hombre           | NACHOM |\n",
    "| Nacionalidad de la mujer          | NACMUJ |\n",
    "| Escolaridad del hombre            | ESCHOM |\n",
    "| Escolaridad de la mujer           | ESCMUJ |\n",
    "| Ocupación del hombre              | CIUOHOM |\n",
    "| Ocupación de la mujer             | CIUOMUJ |"
   ]
  },
  {
   "cell_type": "markdown",
   "metadata": {},
   "source": [
    "## Limpieza de datatos\n",
    "    - Gestionar datos nulos\n",
    "    - Seleccionar las variables de importancia\n"
   ]
  },
  {
   "cell_type": "markdown",
   "metadata": {},
   "source": [
    "# Análisis exploratorio"
   ]
  },
  {
   "cell_type": "markdown",
   "metadata": {},
   "source": [
    "## Variables cuantitativas"
   ]
  },
  {
   "cell_type": "markdown",
   "metadata": {},
   "source": [
    "## Variables cualitativas"
   ]
  },
  {
   "cell_type": "markdown",
   "metadata": {},
   "source": [
    "## Preguntas exploratorias (5 preguntas mínimo)"
   ]
  },
  {
   "cell_type": "markdown",
   "metadata": {},
   "source": [
    "## Análisis por clustering"
   ]
  },
  {
   "cell_type": "markdown",
   "metadata": {},
   "source": [
    "# Hallazgos y conclusiones"
   ]
  }
 ],
 "metadata": {
  "kernelspec": {
   "display_name": ".venv",
   "language": "python",
   "name": "python3"
  },
  "language_info": {
   "codemirror_mode": {
    "name": "ipython",
    "version": 3
   },
   "file_extension": ".py",
   "mimetype": "text/x-python",
   "name": "python",
   "nbconvert_exporter": "python",
   "pygments_lexer": "ipython3",
   "version": "3.13.2"
  }
 },
 "nbformat": 4,
 "nbformat_minor": 2
}
