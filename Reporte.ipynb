{
 "cells": [
  {
   "cell_type": "markdown",
   "metadata": {},
   "source": [
    "# Proyecto 3 - Minería de datos\n",
    "***Universidad del Valle de Guatemala***\n",
    "\n",
    "___24 de marzo, 2025___\n",
    "\n",
    "**Autores:**\n",
    "- Daniel Alfredo Rayo Roldán\n",
    "- Gerardo Pineda\n",
    "- Juan Luis\n",
    "\n",
    "# Introducción\n",
    "\n",
    "\n",
    "# Situación Problemática\n",
    "\n",
    "## Objetivos Generales\n",
    "\n",
    "## Objetivos Específicos"
   ]
  },
  {
   "cell_type": "code",
   "execution_count": null,
   "metadata": {},
   "outputs": [],
   "source": [
    "import warnings\n",
    "import pandas as pd"
   ]
  },
  {
   "cell_type": "markdown",
   "metadata": {},
   "source": [
    "# Descripción de los datos\n",
    "Para iniciar el estudio se estrajeron las observaciones de divorcios hechas por el INE sobre el tema desde los años del 2013 hasta el 2023 (11 años). Se necesito hacer una cierta preprocesado, dado que las disposición y nombre de las variables cambio ligeramente a lo largo de los años, diferencias que se unificaron en las siguientes variables finales, con las que se trabajara a partir de ahora:\n",
    "\n",
    "**Variables númericas:**\n",
    "\n",
    "| Descripcion | Codificación | Categoría Nula |\n",
    "|-----------------|-------|----|\n",
    "| Edad del hombre | EDADHOM  | 999 |\n",
    "| Edad de la mujer | EDADMUJ | 999 |\n",
    "\n",
    "**Variables categóricas:**\n",
    "| Descripcion | Codificación | Categoría Nula | \n",
    "|-----------------------------------|-------|---|\n",
    "| Departamento de registro          | DEPREG |\n",
    "| Municipio de registro             | MUPREG   |\n",
    "| Mes de registro                   | MESREG   |\n",
    "| Año de registro                   | AÑOREG   |\n",
    "| Día de ocurrencia                 | DIACU |\n",
    "| Mes de ocurrencia                 | MESOCU  |\n",
    "| Año de ocurrencia                 | AÑOOCU |\n",
    "| Departamento de ocurrencia        | DEPOCU |\n",
    "| Municipio de ocurrencia           |  MUPOCU |\n",
    "| Grupo étnico del hombre           | PUEHOM | 9 |\n",
    "| Grupo étnico de la mujer          | PUEMUJ | 9 |\n",
    "| Nacionalidad del hombre           | NACHOM | 9999 | \n",
    "| Nacionalidad de la mujer          | NACMUJ | 9999 |\n",
    "| Escolaridad del hombre            | ESCHOM | 9 | \n",
    "| Escolaridad de la mujer           | ESCMUJ | 9 |\n",
    "| Ocupación del hombre              | CIUOHOM | 99 | \n",
    "| Ocupación de la mujer             | CIUOMUJ | 99 |\n",
    "\n",
    "***Nota:*** *La \"categoría nula\" para las variables en las que aplica, indica ese valor reservado para observaciones \"sin definir\", se podrían considerar como un equivalente del Nan.*\n"
   ]
  },
  {
   "cell_type": "code",
   "execution_count": 1,
   "metadata": {},
   "outputs": [],
   "source": [
    "import pandas as pd\n",
    "import glob\n",
    "\n",
    "# Step 1: Get all CSV file paths\n",
    "csv_files = glob.glob(\"data/*.CSV\")\n",
    "\n",
    "# Step 2: Define a generator to read and process each file on the fly\n",
    "def read_and_clean(file):\n",
    "    df = pd.read_csv(file)\n",
    "    return df\n",
    "\n",
    "# Step 3: Merge without storing copies\n",
    "merged_df = pd.concat((read_and_clean(file) for file in csv_files), ignore_index=True)"
   ]
  },
  {
   "cell_type": "code",
   "execution_count": 1,
   "metadata": {},
   "outputs": [],
   "source": [
    "DEPREG = {\n",
    "    1: \"Guatemala\",\n",
    "    2: \"El Progreso\",\n",
    "    3: \"Sacatepéquez\",\n",
    "    4: \"Chimaltenango\",\n",
    "    5: \"Escuintla\",\n",
    "    6: \"Santa Rosa\",\n",
    "    7: \"Sololá\",\n",
    "    8: \"Totonicapán\",\n",
    "    9: \"Quetzaltenango\",\n",
    "    10: \"Suchitepéquez\",\n",
    "    11: \"Retalhuleu\",\n",
    "    12: \"San Marcos\",\n",
    "    13: \"Huehuetenango\",\n",
    "    14: \"Quiché\",\n",
    "    15: \"Baja Verapaz\",\n",
    "    16: \"Alta Verapaz\",\n",
    "    17: \"Petén\",\n",
    "    18: \"Izabal\",\n",
    "    19: \"Zacapa\",\n",
    "    20: \"Chiquimula\",\n",
    "    21: \"Jalapa\",\n",
    "    22: \"Jutiapa\"\n",
    "}"
   ]
  },
  {
   "cell_type": "code",
   "execution_count": null,
   "metadata": {},
   "outputs": [],
   "source": [
    "MUPREG = {\n",
    "    \"0101\": \"Guatemala\",\n",
    "    \"0102\": \"Santa Catarina Pinula\",\n",
    "    \"0103\": \"San José Pinula\",\n",
    "    \"0104\": \"San José del Golfo\",\n",
    "    \"0105\": \"Palencia\",\n",
    "    \"0106\": \"Chinautla\",\n",
    "    \"0107\": \"San Pedro Ayampuc\",\n",
    "    \"0108\": \"Mixco\",\n",
    "    \"0109\": \"San Pedro Sacatepéquez\",\n",
    "    \"0110\": \"San Juan Sacatepéquez\",\n",
    "    \"0111\": \"San Raymundo\",\n",
    "    \"0112\": \"Chuarrancho\",\n",
    "    \"0113\": \"Fraijanes\",\n",
    "    \"0114\": \"Amatitlán\",\n",
    "    \"0115\": \"Villa Nueva\",\n",
    "    \"0116\": \"Villa Canales\",\n",
    "    \"0117\": \"Petapa\",\n",
    "    \"0201\": \"Guastatoya\",\n",
    "    \"0202\": \"Morazán\",\n",
    "    \"0203\": \"San Agustín Acasaguastlán\",\n",
    "    \"0204\": \"San Cristóbal Acasaguastlán\",\n",
    "    \"0205\": \"El Jícaro\",\n",
    "    \"0206\": \"Sansare\",\n",
    "    \"0207\": \"Sanarate\",\n",
    "    \"0208\": \"San Antonio la Paz\",\n",
    "    \"0301\": \"Antigua Guatemala\",\n",
    "    \"0302\": \"Jocotenango\",\n",
    "    \"0303\": \"Pastores\",\n",
    "    \"0304\": \"Sumpango\",\n",
    "    \"0305\": \"Santo Domingo Xenacoj\",\n",
    "    \"0306\": \"Santiago Sacatepéquez\",\n",
    "    \"0307\": \"San Bartolomé Milpas Altas\",\n",
    "    \"0308\": \"San Lucas Sacatepéquez\",\n",
    "    \"0309\": \"Santa Lucía Milpas Altas\",\n",
    "    \"0310\": \"Magdalena Milpas Altas\",\n",
    "    \"0311\": \"Santa María de Jesús\",\n",
    "    \"0312\": \"Ciudad Vieja\",\n",
    "    \"0313\": \"San Miguel Dueñas\",\n",
    "    \"0314\": \"Alotenango\",\n",
    "    \"0315\": \"San Antonio Aguas Calientes\",\n",
    "    \"0316\": \"Santa Catarina Barahona\",\n",
    "    \"0401\": \"Chimaltenango\",\n",
    "    \"0402\": \"San José Poaquil\",\n",
    "    \"0403\": \"San Martín Jilotepeque\",\n",
    "    \"0404\": \"Comalapa\",\n",
    "    \"0405\": \"Santa Apolonia\",\n",
    "    \"0406\": \"Tecpán Guatemala\"\n",
    "}"
   ]
  },
  {
   "cell_type": "code",
   "execution_count": null,
   "metadata": {},
   "outputs": [],
   "source": []
  },
  {
   "cell_type": "markdown",
   "metadata": {},
   "source": [
    "## Limpieza de datatos\n",
    "\n",
    "    - Gestionar datos nulos\n",
    "    - Seleccionar las variables de importancia"
   ]
  },
  {
   "cell_type": "markdown",
   "metadata": {},
   "source": [
    "# Análisis exploratorio"
   ]
  },
  {
   "cell_type": "markdown",
   "metadata": {},
   "source": [
    "## Variables cuantitativas"
   ]
  },
  {
   "cell_type": "markdown",
   "metadata": {},
   "source": [
    "## Variables cualitativas"
   ]
  },
  {
   "cell_type": "markdown",
   "metadata": {},
   "source": [
    "## Preguntas exploratorias (5 preguntas mínimo)"
   ]
  },
  {
   "cell_type": "markdown",
   "metadata": {},
   "source": [
    "## Análisis por clustering"
   ]
  },
  {
   "cell_type": "markdown",
   "metadata": {},
   "source": [
    "# Hallazgos y conclusiones"
   ]
  }
 ],
 "metadata": {
  "kernelspec": {
   "display_name": ".venv",
   "language": "python",
   "name": "python3"
  },
  "language_info": {
   "codemirror_mode": {
    "name": "ipython",
    "version": 3
   },
   "file_extension": ".py",
   "mimetype": "text/x-python",
   "name": "python",
   "nbconvert_exporter": "python",
   "pygments_lexer": "ipython3",
   "version": "3.13.2"
  }
 },
 "nbformat": 4,
 "nbformat_minor": 2
}
